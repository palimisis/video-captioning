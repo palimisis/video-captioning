{
 "cells": [
  {
   "cell_type": "code",
   "execution_count": 1,
   "outputs": [],
   "source": [
    "from dataset_types import DatasetTypes\n",
    "from dataset import Dataset\n",
    "\n",
    "dataset = Dataset(DatasetTypes.YOU_COOK)"
   ],
   "metadata": {
    "collapsed": false,
    "ExecuteTime": {
     "end_time": "2023-10-14T16:27:18.983722Z",
     "start_time": "2023-10-14T16:27:18.713341Z"
    }
   },
   "id": "d264a96c50300703"
  },
  {
   "cell_type": "code",
   "execution_count": 2,
   "outputs": [],
   "source": [
    "X, y = dataset.load()"
   ],
   "metadata": {
    "collapsed": false,
    "ExecuteTime": {
     "end_time": "2023-10-14T16:27:19.125404Z",
     "start_time": "2023-10-14T16:27:19.103496Z"
    }
   },
   "id": "3825ab1dff72e4b5"
  },
  {
   "cell_type": "code",
   "execution_count": 3,
   "outputs": [
    {
     "data": {
      "text/plain": "1333"
     },
     "execution_count": 3,
     "metadata": {},
     "output_type": "execute_result"
    }
   ],
   "source": [
    "len(dataset)"
   ],
   "metadata": {
    "collapsed": false,
    "ExecuteTime": {
     "end_time": "2023-10-14T16:27:19.468151Z",
     "start_time": "2023-10-14T16:27:19.463719Z"
    }
   },
   "id": "91ca4aeb3a3cf0b8"
  },
  {
   "cell_type": "code",
   "execution_count": 7,
   "outputs": [
    {
     "data": {
      "text/plain": "[[{'segment': [90, 102],\n   'id': 0,\n   'sentence': 'spread margarine on two slices of white bread'},\n  {'segment': [114, 127],\n   'id': 1,\n   'sentence': 'place a slice of cheese on the bread'},\n  {'segment': [132, 138],\n   'id': 2,\n   'sentence': 'place the bread slices on top of each other and place in a hot pan'},\n  {'segment': [139, 145],\n   'id': 3,\n   'sentence': 'flip the sandwich over and press down'},\n  {'segment': [173, 174],\n   'id': 4,\n   'sentence': 'cut the sandwich in half diagonally'}],\n [{'segment': [67, 102], 'id': 0, 'sentence': 'grill the  patties'},\n  {'segment': [129, 157],\n   'id': 1,\n   'sentence': 'chop some roasted pepper and season with salt and pepper'},\n  {'segment': [202, 222],\n   'id': 2,\n   'sentence': 'add butter flour and hot milk to a sauce pan and whisk'},\n  {'segment': [229, 239],\n   'id': 3,\n   'sentence': 'add some parmesan cheese and salt to pot'},\n  {'segment': [264, 305],\n   'id': 4,\n   'sentence': 'put the patties cheese sauce and vegetables in buns'}]]"
     },
     "execution_count": 7,
     "metadata": {},
     "output_type": "execute_result"
    }
   ],
   "source": [],
   "metadata": {
    "collapsed": false,
    "ExecuteTime": {
     "end_time": "2023-10-14T16:27:39.952488Z",
     "start_time": "2023-10-14T16:27:39.948891Z"
    }
   },
   "id": "1392025c065d436c"
  }
 ],
 "metadata": {
  "kernelspec": {
   "display_name": "Python 3",
   "language": "python",
   "name": "python3"
  },
  "language_info": {
   "codemirror_mode": {
    "name": "ipython",
    "version": 2
   },
   "file_extension": ".py",
   "mimetype": "text/x-python",
   "name": "python",
   "nbconvert_exporter": "python",
   "pygments_lexer": "ipython2",
   "version": "2.7.6"
  }
 },
 "nbformat": 4,
 "nbformat_minor": 5
}
